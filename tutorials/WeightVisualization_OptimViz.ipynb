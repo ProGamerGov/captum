{
  "nbformat": 4,
  "nbformat_minor": 0,
  "metadata": {
    "colab": {
      "name": "WeightVisualization_OptimViz.ipynb",
      "provenance": [],
      "collapsed_sections": [],
      "toc_visible": true
    },
    "kernelspec": {
      "name": "python3",
      "display_name": "Python 3"
    }
  },
  "cells": [
    {
      "cell_type": "markdown",
      "metadata": {
        "id": "VWy2Woand8P0"
      },
      "source": [
        "# Visualizing weights with captum.optim\r\n",
        "\r\n",
        "This notebook demonstrates the use of the captum.optim submodule for visualizing the weights of the InceptionV1 model imported from Caffe."
      ]
    },
    {
      "cell_type": "code",
      "metadata": {
        "id": "GWrStkUVEbOC"
      },
      "source": [
        "%load_ext autoreload\n",
        "%autoreload 2\n",
        "\n",
        "import torch\n",
        "import torchvision\n",
        "from captum.optim._models.inception_v1 import googlenet\n",
        "\n",
        "import captum.optim as optimviz\n",
        "\n",
        "device = torch.device(\"cuda:0\" if torch.cuda.is_available() else \"cpu\")\n",
        "\n",
        "model = googlenet(pretrained=True).to(device).eval()"
      ],
      "execution_count": null,
      "outputs": []
    },
    {
      "cell_type": "markdown",
      "metadata": {
        "id": "rzb9RtdUfE_H"
      },
      "source": [
        "For convenience, we can create helper functions for visualizing the weights of our model.\r\n"
      ]
    },
    {
      "cell_type": "code",
      "metadata": {
        "id": "D46o5t8a4iVk"
      },
      "source": [
        "import numpy as np\r\n",
        "import matplotlib.pyplot as plt\r\n",
        "\r\n",
        "\r\n",
        "def show(x: np.ndarray, scale: float = 255.0) -> None:\r\n",
        "    x = x * scale\r\n",
        "    plt.imshow(x.astype(np.uint8))\r\n",
        "    plt.axis(\"off\")\r\n",
        "    plt.show()\r\n",
        "\r\n",
        "def weight_heatmap(array: np.ndarray) -> np.ndarray:\r\n",
        "    def C(x: str) -> np.ndarray:\r\n",
        "        def H(x: str) -> float:\r\n",
        "            return int(x, 16) / 255.0\r\n",
        "\r\n",
        "        return np.asarray([H(x[0:2]), H(x[2:4]), H(x[4:6])])\r\n",
        "\r\n",
        "    def weight_color_scale(x: np.float32) -> np.float32:\r\n",
        "        if x < 0:\r\n",
        "            x = -x\r\n",
        "            if x < 0.5:\r\n",
        "                x = x * 2\r\n",
        "                return (1 - x) * C(\"f7f7f7\") + x * C(\"92c5de\")\r\n",
        "            else:\r\n",
        "                x = (x - 0.5) * 2\r\n",
        "                return (1 - x) * C(\"92c5de\") + x * C(\"0571b0\")\r\n",
        "        else:\r\n",
        "            if x < 0.5:\r\n",
        "                x = x * 2\r\n",
        "                return (1 - x) * C(\"f7f7f7\") + x * C(\"f4a582\")\r\n",
        "            else:\r\n",
        "                x = (x - 0.5) * 2\r\n",
        "                return (1 - x) * C(\"f4a582\") + x * C(\"ca0020\")\r\n",
        "\r\n",
        "    return np.asarray([[weight_color_scale(x) for x in a] for a in array])"
      ],
      "execution_count": 63,
      "outputs": []
    },
    {
      "cell_type": "markdown",
      "metadata": {
        "id": "fMvQtKFEe9R8"
      },
      "source": [
        "## Extracting Hidden Weights\r\n",
        "\r\n",
        "We can extract hidden weights with Captum.optim's get_expanded_weights function.\r\n",
        "\r\n",
        "Below we extract the hidden weights between layers mixed3a and mixed3b:"
      ]
    },
    {
      "cell_type": "code",
      "metadata": {
        "id": "IWbzbWvGTj0-"
      },
      "source": [
        "W_3a_3b = optimviz.circuits.get_expanded_weights(test_model, test_model.mixed3a, test_model.mixed3b)"
      ],
      "execution_count": 64,
      "outputs": []
    },
    {
      "cell_type": "markdown",
      "metadata": {
        "id": "HnNDlOiFWMf7"
      },
      "source": [
        "# Visualizing hidden-hidden weights\r\n",
        "\r\n",
        "We can visualize our newly collected hidden weights like so:"
      ]
    },
    {
      "cell_type": "code",
      "metadata": {
        "colab": {
          "base_uri": "https://localhost:8080/",
          "height": 248
        },
        "id": "BiAXnE0zqyFP",
        "outputId": "9f00a11a-e807-43fa-cd60-63dfaae17f92"
      },
      "source": [
        "W_3a_3b_np = W_3a_3b.permute(1, 2, 0, 3).numpy()\r\n",
        "show(weight_heatmap(W_3a_3b_np[:,:,147,379] / W_3a_3b_np[:,:,:,379].max()))"
      ],
      "execution_count": 65,
      "outputs": [
        {
          "output_type": "display_data",
          "data": {
            "image/png": "[encoded data removed]",
            "text/plain": [
              "<Figure size 432x288 with 1 Axes>"
            ]
          },
          "metadata": {
            "tags": [],
            "needs_background": "light"
          }
        }
      ]
    },
    {
      "cell_type": "markdown",
      "metadata": {
        "id": "e1ZoZdYdVv0G"
      },
      "source": [
        "# NMF Visualizations of hidden-hidden weights\r\n",
        "\r\n",
        "NMF and other dimensionality reduction alorgrithms can reveal the spaital structure of weights."
      ]
    },
    {
      "cell_type": "code",
      "metadata": {
        "colab": {
          "base_uri": "https://localhost:8080/",
          "height": 248
        },
        "id": "rrT2Z3HiVDPt",
        "outputId": "124f1bd5-a021-4a1b-e168-eb99b01195b1"
      },
      "source": [
        "reducer = optimviz.ChannelReducer(3)\r\n",
        "\r\n",
        "W_3a_3b_posneg = np.concatenate([np.maximum(0, W_3a_3b_np), np.maximum(0, -W_3a_3b_np)], axis=2)\r\n",
        "\r\n",
        "W_nmf = reducer.fit_transform(torch.as_tensor(W_3a_3b_posneg[..., 320]), reshape=False).numpy()\r\n",
        "W_nmf /= W_nmf.max()\r\n",
        "show(W_nmf)"
      ],
      "execution_count": 66,
      "outputs": [
        {
          "output_type": "display_data",
          "data": {
            "image/png": "[encoded data removed]",
            "text/plain": [
              "<Figure size 432x288 with 1 Axes>"
            ]
          },
          "metadata": {
            "tags": [],
            "needs_background": "light"
          }
        }
      ]
    }
  ]
}